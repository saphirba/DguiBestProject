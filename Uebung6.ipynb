{
 "cells": [
  {
   "cell_type": "code",
   "execution_count": 22,
   "metadata": {},
   "outputs": [
    {
     "name": "stdout",
     "output_type": "stream",
     "text": [
      "Mittelwert:  new_cases    5623.480575\n",
      "dtype: float64\n",
      "Median:  new_cases    68.0\n",
      "dtype: float64\n"
     ]
    }
   ],
   "source": [
    "import pandas as pd\n",
    "covidData = pd.read_csv(\"CovidData/owid-covid-data.csv\")\n",
    "newCases = covidData[['new_cases']]\n",
    "meanNewCases = newCases.mean()\n",
    "medianNewCases = newCases.median()\n",
    "print(\"Mittelwert: \", meanNewCases)\n",
    "print(\"Median: \", medianNewCases)"
   ]
  },
  {
   "cell_type": "code",
   "execution_count": 27,
   "metadata": {},
   "outputs": [
    {
     "name": "stdout",
     "output_type": "stream",
     "text": [
      "          location\n",
      "0      Afghanistan\n",
      "1      Afghanistan\n",
      "2      Afghanistan\n",
      "3      Afghanistan\n",
      "4      Afghanistan\n",
      "...            ...\n",
      "83030     Zimbabwe\n",
      "83031     Zimbabwe\n",
      "83032     Zimbabwe\n",
      "83033     Zimbabwe\n",
      "83034     Zimbabwe\n",
      "\n",
      "[83035 rows x 1 columns]\n",
      "       new_cases     location\n",
      "0            1.0  Afghanistan\n",
      "1            0.0  Afghanistan\n",
      "2            0.0  Afghanistan\n",
      "3            0.0  Afghanistan\n",
      "4            0.0  Afghanistan\n",
      "...          ...          ...\n",
      "83030      112.0     Zimbabwe\n",
      "83031      165.0     Zimbabwe\n",
      "83032       52.0     Zimbabwe\n",
      "83033      108.0     Zimbabwe\n",
      "83034       16.0     Zimbabwe\n",
      "\n",
      "[83035 rows x 2 columns]\n"
     ]
    }
   ],
   "source": [
    "import pandas as pd\n",
    "covidData = pd.read_csv(\"CovidData/owid-covid-data.csv\")\n",
    "newCasesInLocation = covidData[['new_cases', 'location']]\n",
    "newCases = covidData[['new_cases']]\n",
    "location = covidData[['location']]\n",
    "while (location )\n",
    "print(location) \n",
    "print(newCasesInLocation)\n"
   ]
  },
  {
   "cell_type": "code",
   "execution_count": null,
   "metadata": {},
   "outputs": [],
   "source": []
  }
 ],
 "metadata": {
  "kernelspec": {
   "display_name": "Python 3",
   "language": "python",
   "name": "python3"
  },
  "language_info": {
   "codemirror_mode": {
    "name": "ipython",
    "version": 3
   },
   "file_extension": ".py",
   "mimetype": "text/x-python",
   "name": "python",
   "nbconvert_exporter": "python",
   "pygments_lexer": "ipython3",
   "version": "3.8.5"
  }
 },
 "nbformat": 4,
 "nbformat_minor": 4
}
