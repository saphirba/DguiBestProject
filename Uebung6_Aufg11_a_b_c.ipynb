{
 "cells": [
  {
   "cell_type": "code",
   "execution_count": 64,
   "metadata": {},
   "outputs": [
    {
     "name": "stdout",
     "output_type": "stream",
     "text": [
      "Mittelwert:  new_cases    3964.903915\n",
      "dtype: float64\n",
      "Median:  new_cases    67.0\n",
      "dtype: float64\n",
      "Standardabweichung:  new_cases    19959.468282\n",
      "dtype: float64\n",
      "Varianz:  new_cases    3.983804e+08\n",
      "dtype: float64\n",
      "Maximum:  new_cases    482745.0\n",
      "dtype: float64\n"
     ]
    }
   ],
   "source": [
    "#Aufgabe 11 a & b\n",
    "#Daten werden via URL von Our World in Data auf github geholt\n",
    "\n",
    "import pandas as pd\n",
    "import numpy as np\n",
    "from statistics import mean\n",
    "\n",
    "covidData = pd.read_csv(\"https://raw.githubusercontent.com/owid/covid-19-data/master/public/data/owid-covid-data.csv\")\n",
    "covidData_c = covidData.copy()\n",
    "#Die Zusammengefassten Daten von \"World\" (ganze Welt) werden herausgefiltert und in neuer Tabelle filtered_covidData gespeichert\n",
    "covidData_mask = covidData_c['iso_code'] != 'OWID_WRL'\n",
    "filtered_covidData = covidData_c[covidData_mask]\n",
    "\n",
    "newCases = filtered_covidData[['new_cases']]\n",
    "meanNewCases = newCases.mean()\n",
    "medianNewCases = newCases.median()\n",
    "stdNewCases = newCases.std()\n",
    "varNewCases = newCases.var()\n",
    "maxNewCases = newCases.max()\n",
    "\n",
    "print(\"Mittelwert: \", meanNewCases)\n",
    "print(\"Median: \", medianNewCases)\n",
    "print(\"Standardabweichung: \", stdNewCases)\n",
    "print(\"Varianz: \", varNewCases)\n",
    "print(\"Maximum: \", maxNewCases)"
   ]
  },
  {
   "cell_type": "code",
   "execution_count": 88,
   "metadata": {},
   "outputs": [
    {
     "name": "stdout",
     "output_type": "stream",
     "text": [
      "<pandas.core.groupby.generic.DataFrameGroupBy object at 0x000001A7C1EDA6A0>\n"
     ]
    }
   ],
   "source": [
    "#Aufgabe 11c\n",
    "import pandas as pd\n",
    "import numpy as np\n",
    "from statistics import mean\n",
    "\n",
    "covidData = pd.read_csv(\"https://raw.githubusercontent.com/owid/covid-19-data/master/public/data/owid-covid-data.csv\")\n",
    "covidData_c = covidData.copy()\n",
    "#Die Zusammengefassten Daten von \"World\" (ganze Welt) werden herausgefiltert und in neuer Tabelle filtered_covidData gespeichert\n",
    "covidData_mask = covidData_c['iso_code'] != 'OWID_WRL'\n",
    "filtered_covidData = covidData_c[covidData_mask]\n",
    "\n",
    "newCases = filtered_covidData[['location', 'new_cases']]\n",
    "\n",
    "#das mit dem Land mit dem höchsten Mittelwert muss ich noch machen! :-)#"
   ]
  },
  {
   "cell_type": "code",
   "execution_count": null,
   "metadata": {},
   "outputs": [],
   "source": []
  },
  {
   "cell_type": "code",
   "execution_count": null,
   "metadata": {},
   "outputs": [],
   "source": []
  }
 ],
 "metadata": {
  "kernelspec": {
   "display_name": "Python 3",
   "language": "python",
   "name": "python3"
  },
  "language_info": {
   "codemirror_mode": {
    "name": "ipython",
    "version": 3
   },
   "file_extension": ".py",
   "mimetype": "text/x-python",
   "name": "python",
   "nbconvert_exporter": "python",
   "pygments_lexer": "ipython3",
   "version": "3.8.5"
  }
 },
 "nbformat": 4,
 "nbformat_minor": 4
}
